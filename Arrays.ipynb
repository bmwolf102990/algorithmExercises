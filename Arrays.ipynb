{
 "cells": [
  {
   "cell_type": "markdown",
   "metadata": {},
   "source": [
    "**Sorted Union**\n",
    "\n",
    "> Write a function that takes two or more arrays and returns a new array of unique values in the order of the original provided arrays.\n",
    ">\n",
    "> - In other words, all values present from all arrays should be included in their original order, but with no duplicates in the final array.\n",
    ">\n",
    "> - The unique numbers should be sorted by their original order, but the final array should not be sorted in numerical order.\n",
    "\n",
    "The solution needs to take into account that the amount of array inputs will be at least two, but could, in theory, be infinite. I will need to use a rest parameter to handle that possibility. As for the actual solution, I want to get all of the elements of all the separate input arrays into one array, and then I want to filter out the duplicates. Since I am going to use the rest parameter in my function, all of the arrays that are input as arguments of the function call will, in turn, be placed in an array. So I will have a 2D array right off the bat and all I should need to do is flatten it to get my one array of all the individual elements. Using a set should eliminate the duplicates. \n",
    "\n",
    "**Time Complexity**\n",
    "\n",
    "In honesty, I am not entirely sure (because I couldn't find any dox on the time complexity of the flatMap() method), but I believe that the time complexity of my solution should be *O(n)*. All that flatMap() should be doing is iterating over each array of the 2D array and putting every individual element into a single flattened array. You can do that with a single for loop and the spread operator to copy the contents of each array. And I don't believe that utilizing a set to filter duplicates will affect the runtime beyond that, but it is possible that I am wrong."
   ]
  },
  {
   "cell_type": "code",
   "execution_count": null,
   "metadata": {
    "vscode": {
     "languageId": "javascript"
    }
   },
   "outputs": [],
   "source": [
    "function sortedUnion(...arr) {\n",
    "    let set = new Set(arr.flatMap((ele) => ele));\n",
    "    \n",
    "    return [...set];\n",
    "  }"
   ]
  },
  {
   "cell_type": "markdown",
   "metadata": {},
   "source": [
    "**Search Insert Position**\n",
    "\n",
    "> Given a sorted array of distinct integers and a target value, return the index if the target is found. If not, return the index where it would be if it were inserted in order.\n",
    "> - You must write an algorithm with O(log n) runtime complexity.\n",
    "\n",
    "\n",
    "\n",
    "**Time Complexity**\n",
    "\n",
    "Because it uses a binary search method, the time complexity is *O(log n)*."
   ]
  },
  {
   "cell_type": "code",
   "execution_count": null,
   "metadata": {
    "vscode": {
     "languageId": "javascript"
    }
   },
   "outputs": [],
   "source": []
  }
 ],
 "metadata": {
  "language_info": {
   "name": "python"
  }
 },
 "nbformat": 4,
 "nbformat_minor": 2
}
