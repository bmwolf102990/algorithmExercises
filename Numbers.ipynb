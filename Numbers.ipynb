{
 "cells": [
  {
   "cell_type": "markdown",
   "metadata": {},
   "source": [
    "**Exercise 00: Reverse Integer**\n",
    "\n",
    "> Given a signed 32-bit integer `x`, return `x` with its digits reversed. If reversing `x` causes the value to go outside the signed 32-bit\n",
    "> integer range, then return 0.\n",
    "> \n",
    "> *Assume the environment does not allow you to store 64-bit integers (signed or unsigned)*.\n",
    "\n",
    "So, I am going to need to handle reversing both positive and negative ints. Reversing the positive ints will be easy; just convert to a string, split to an array, reverse, join back to a string and convert back to a number. I can do all the same procedures with a negative ints, but I will need to remove the negative sign before I do anything else and then I will have to add it back onto the front of the array before joining and converting back to a number. The final piece of the puzzle is the check that `x` is within the 32-bit int range. I don't know what the exact numbers are, but I don't have to. I can use `2**31` which evaluates to the number I need. \n",
    "\n",
    "**Time Complexity**\n",
    "\n",
    "I believe that, because of the `reverse()` method, the time complexity of my solution is *O(n)*."
   ]
  },
  {
   "cell_type": "code",
   "execution_count": null,
   "metadata": {
    "vscode": {
     "languageId": "javascript"
    }
   },
   "outputs": [],
   "source": [
    "function reverseInt(x) {\n",
    "    x = x.toString().split(\"\");\n",
    "\n",
    "    if (x[0] === \"-\") {\n",
    "        x.shift()\n",
    "        x.reverse().unshift(\"-\");\n",
    "    } else {\n",
    "        x.reverse();\n",
    "    };\n",
    "\n",
    "    x = Number(x.join(\"\"));\n",
    "\n",
    "    if (x > 2**31 || -x > 2**31) {\n",
    "        return 0;\n",
    "    };\n",
    "\n",
    "    return x;\n",
    "};"
   ]
  }
 ],
 "metadata": {
  "language_info": {
   "name": "python"
  }
 },
 "nbformat": 4,
 "nbformat_minor": 2
}
