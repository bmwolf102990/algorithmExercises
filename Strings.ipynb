{
 "cells": [
  {
   "cell_type": "markdown",
   "metadata": {},
   "source": [
    "**Missing Letters**\n",
    "\n",
    "> Find the missing letter in the passed letter range and return it. If all letters are present in the range, return `undefined`.\n",
    "\n",
    "So my first thought was that the prompt is rather vague about what actually constitutes a \"letter range\". From looking at test cases I deduced that a valid letter range has to be a string of alphabetically sequential characters (i.e \"abcd\", \"wxyvz\" etc.).\n",
    "\n",
    "So in order to determine what letter is missing (if any) from the provided range, we need to have something to compare against; and since the range has to be sequentially related to the actual alphabet, creating a comparative string of the entire alphabet makes sense to me. After that, all I need to do is figure out how to take any possible snippet of the alphabet, find that same snippet within my comparative alphabet string, and see if they match. The comparison process will be iterative so I will need to emply a loop of some kind.\n",
    "\n",
    "**Time Complexity**\n",
    "\n",
    "The time complexity of my solution is *O(n)*; where *n* will always be greater than or equal to 1. At most, *n* will equal the value of `end - start`.  "
   ]
  },
  {
   "cell_type": "code",
   "execution_count": null,
   "metadata": {
    "vscode": {
     "languageId": "javascript"
    }
   },
   "outputs": [],
   "source": [
    "function missingLetter(str) {\n",
    "    let alphabet = \"abcdefghijklmnopqrstuvwxyz\"; // this is the string that I will compare the function's input against\n",
    "    let start = alphabet.search(str[0]); // this tells me the beginning index of the input within my comparative alphabet\n",
    "    let end = alphabet.search(str[str.length - 1]); // this tells me the ending index of the input within my comparative alphabet\n",
    "\n",
    "    // I use one for loop with 2 pointers (i, q) starting at different values so that I can iterate over/compare both strings at the same time.\n",
    "    for (let i = 0, q = start ; q <= end; i++, q++) {\n",
    "      if (str[i] !== alphabet[q]) { // if the comparison finds a mismatch in the sequence, it returns the missing letter from the alphabet\n",
    "        return alphabet[q];\n",
    "      }\n",
    "    }\n",
    "  \n",
    "    return undefined; //if no mismatches are found\n",
    "}"
   ]
  }
 ],
 "metadata": {
  "language_info": {
   "name": "python"
  }
 },
 "nbformat": 4,
 "nbformat_minor": 2
}
