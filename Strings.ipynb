{
 "cells": [
  {
   "cell_type": "markdown",
   "metadata": {},
   "source": [
    "**Exercise 00: Missing Letters**\n",
    "\n",
    "> Find the missing letter in the passed letter range and return it. If all letters are present in the range, return `undefined`.\n",
    "\n",
    "So my first thought was that the prompt is rather vague about what actually constitutes a \"letter range\". From looking at test cases I deduced that a valid letter range has to be a string of alphabetically sequential characters (i.e \"abcd\", \"wxyz\" etc.).\n",
    "\n",
    "So in order to determine what letter is missing (if any) from the provided range, we need to have something to compare against; and since the range has to be sequentially related to the actual alphabet, creating a comparative string of the entire alphabet makes sense to me. After that, all I need to do is figure out how to take any possible snippet of the alphabet, find that same snippet within my comparative alphabet string, and see if they match. The comparison process will be iterative so I will need to employ a loop of some kind.\n",
    "\n",
    "**Time Complexity**\n",
    "\n",
    "The time complexity of my solution is *O(n)*; where *n* will always be greater than or equal to 1. At most, *n* will equal the value of `end - start`.  "
   ]
  },
  {
   "cell_type": "code",
   "execution_count": null,
   "metadata": {
    "vscode": {
     "languageId": "javascript"
    }
   },
   "outputs": [],
   "source": [
    "function missingLetter(str) {\n",
    "  let alphabet = \"abcdefghijklmnopqrstuvwxyz\";\n",
    "  let start = alphabet.search(str[0]);\n",
    "  let end = alphabet.search(str[str.length - 1]);\n",
    "\n",
    "  for (let i = 0, q = start ; q <= end; i++, q++) {\n",
    "    if (str[i] !== alphabet[q]) {\n",
    "      return alphabet[q];\n",
    "    }\n",
    "  }\n",
    "  \n",
    "  return undefined;\n",
    "}"
   ]
  },
  {
   "cell_type": "markdown",
   "metadata": {},
   "source": [
    "**Exercise 01: Pig Latin**\n",
    "\n",
    "> Translate the provided string to Pig Latin. Input strings are guaranteed to be English words in all lowercase.\n",
    ">\n",
    "> Pig Latin is a way of altering English Words. The rules are as follows:\n",
    ">\n",
    "> - If a word begins with a consonant, take the first consonant or consonant cluster, move it to the end of the word, and add `\"ay\"` to it.\n",
    ">\n",
    "> - If a word begins with a vowel, just add `\"way\"` at the end.\n",
    "\n",
    "I am thinking that I will be able to use regular expressions here. I will probably have to use two separate patterns in order to alter the strings depending on each possible case (words starting with consonants vs. vowels). After I grab what I need with the patterns, I should be able to utilize the `.replace()` method in order to swap around charcters, if needed, and add the proper endings.\n",
    "\n",
    "**Time Complexity**\n",
    "\n",
    "Based, on what I found from research, the time complexity of this solution should be *O(n)*."
   ]
  },
  {
   "cell_type": "code",
   "execution_count": null,
   "metadata": {
    "vscode": {
     "languageId": "javascript"
    }
   },
   "outputs": [],
   "source": [
    "function translatePigLatin(str) {\n",
    "  return str\n",
    "    .replace(/^[aeiou]\\w*/, \"$&way\")\n",
    "    .replace(/(^[^aeiou]+)(\\w*)/, \"$2$1ay\");\n",
    "}"
   ]
  }
 ],
 "metadata": {
  "language_info": {
   "name": "python"
  }
 },
 "nbformat": 4,
 "nbformat_minor": 2
}
